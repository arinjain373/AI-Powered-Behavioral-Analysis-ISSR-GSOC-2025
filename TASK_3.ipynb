{
  "nbformat": 4,
  "nbformat_minor": 0,
  "metadata": {
    "colab": {
      "provenance": [],
      "toc_visible": true
    },
    "kernelspec": {
      "name": "python3",
      "display_name": "Python 3"
    },
    "language_info": {
      "name": "python"
    }
  },
  "cells": [
    {
      "cell_type": "markdown",
      "source": [
        "# **Importing Libraries**"
      ],
      "metadata": {
        "id": "6J6UeaE0a2DY"
      }
    },
    {
      "cell_type": "code",
      "execution_count": null,
      "metadata": {
        "id": "SnPBqGK-scLd"
      },
      "outputs": [],
      "source": [
        "import pandas as pd\n",
        "import nltk\n",
        "import re\n",
        "import matplotlib.pyplot as plt\n",
        "import seaborn as sns\n",
        "from collections import Counter, defaultdict\n",
        "import plotly.express as px\n",
        "import numpy as np\n",
        "nltk.download('punkt')\n",
        "nltk.download('punkt_tab')"
      ]
    },
    {
      "cell_type": "markdown",
      "source": [
        "# **Loading Data**"
      ],
      "metadata": {
        "id": "nAVT5lNaa8Mp"
      }
    },
    {
      "cell_type": "code",
      "source": [
        "csv_file = \"mental_health_reddit_posts.csv\"\n",
        "df = pd.read_csv(csv_file)\n",
        "results = {}"
      ],
      "metadata": {
        "id": "jxc8JuPFx75L"
      },
      "execution_count": null,
      "outputs": []
    },
    {
      "cell_type": "markdown",
      "source": [
        "# **Topic-based regional analysis**"
      ],
      "metadata": {
        "id": "6A30BMnutTh1"
      }
    },
    {
      "cell_type": "code",
      "source": [
        "def regional_topic_analysis(df, text_column=\"preprocessed_content\"):\n",
        "    \"\"\"\n",
        "    Group posts by major geographic regions (Northeast, Midwest, etc.)\n",
        "    and analyze topic differences between regions.\n",
        "    \"\"\"\n",
        "    print(\"Performing regional topic analysis...\")\n",
        "\n",
        "    # Define regions (a simplified approach without precise geocoding)\n",
        "    us_regions = {\n",
        "        \"Northeast\": [\"NY\", \"NYC\", \"New York\", \"Boston\", \"Philadelphia\", \"NJ\", \"Jersey\", \"CT\", \"Maine\", \"NH\", \"VT\", \"RI\", \"MA\"],\n",
        "        \"Midwest\": [\"Chicago\", \"IL\", \"Michigan\", \"Ohio\", \"Minnesota\", \"Wisconsin\", \"Iowa\", \"Missouri\", \"Indiana\", \"Detroit\"],\n",
        "        \"South\": [\"TX\", \"Texas\", \"FL\", \"Florida\", \"Georgia\", \"NC\", \"SC\", \"Tennessee\", \"Kentucky\", \"Alabama\", \"Louisiana\", \"Virginia\"],\n",
        "        \"West\": [\"CA\", \"California\", \"LA\", \"Oregon\", \"Washington\", \"CO\", \"Colorado\", \"Arizona\", \"Nevada\", \"Utah\", \"Portland\", \"Seattle\"],\n",
        "        \"International\": [\"UK\", \"London\", \"Canada\", \"Australia\", \"Germany\", \"France\", \"Europe\", \"Asia\", \"Africa\", \"Mexico\"]\n",
        "    }\n",
        "\n",
        "    # Initialize region counters\n",
        "    region_counts = {region: 0 for region in us_regions}\n",
        "    region_texts = {region: [] for region in us_regions}\n",
        "\n",
        "    # Scan posts for region mentions\n",
        "    for _, row in df.iterrows():\n",
        "        text = str(row[text_column])\n",
        "\n",
        "        # Assign to region based on keyword matches\n",
        "        for region, keywords in us_regions.items():\n",
        "            for keyword in keywords:\n",
        "                if re.search(r'\\b' + re.escape(keyword) + r'\\b', text, re.IGNORECASE):\n",
        "                    region_counts[region] += 1\n",
        "                    region_texts[region].append(text)\n",
        "                    break\n",
        "\n",
        "    # Analyze common words in each region\n",
        "    region_top_words = {}\n",
        "    for region, texts in region_texts.items():\n",
        "        if texts:\n",
        "            all_text = \" \".join(texts)\n",
        "            words = nltk.word_tokenize(all_text.lower())\n",
        "            fdist = nltk.FreqDist(words)\n",
        "            region_top_words[region] = [word for word, freq in fdist.most_common(20)\n",
        "                                      if len(word) > 3 and word.isalpha()]\n",
        "\n",
        "    return region_counts, region_top_words"
      ],
      "metadata": {
        "id": "469sxrratA_9"
      },
      "execution_count": null,
      "outputs": []
    },
    {
      "cell_type": "code",
      "source": [
        "region_counts, region_topics = regional_topic_analysis(df)\n",
        "# Regional distribution\n",
        "print(\"\\n Regional distribution of posts:\")\n",
        "for region, count in region_counts.items():\n",
        "    print(f\"  {region}: {count} posts\")\n",
        "\n",
        "print(\"\\n Top topics by region:\")\n",
        "for region, words in region_topics.items():\n",
        "    if words:\n",
        "        print(f\"  {region}: {', '.join(words[:10])}\")"
      ],
      "metadata": {
        "colab": {
          "base_uri": "https://localhost:8080/"
        },
        "id": "e3Fen4rftJhA",
        "outputId": "43d6b4ba-3b8f-45ee-a797-ee262b32778e"
      },
      "execution_count": null,
      "outputs": [
        {
          "output_type": "stream",
          "name": "stdout",
          "text": [
            "Performing regional topic analysis...\n",
            "\n",
            " Regional distribution of posts:\n",
            "  Northeast: 8 posts\n",
            "  Midwest: 0 posts\n",
            "  South: 6 posts\n",
            "  West: 7 posts\n",
            "  International: 22 posts\n",
            "\n",
            " Top topics by region:\n",
            "  Northeast: panic, like, feel, attacks, anxiety, time, going, heart, symptoms, also\n",
            "  South: help, dont, time, really, told, still, everything, know, years, like\n",
            "  West: dont, like, time, anxiety, life, help, know, feel, really, much\n",
            "  International: dont, like, know, time, years, want, feel, would, alcohol, fucking\n"
          ]
        }
      ]
    },
    {
      "cell_type": "markdown",
      "source": [
        "# **US State Frequency Analysis with Visualization**"
      ],
      "metadata": {
        "id": "Imr39S3ktXy-"
      }
    },
    {
      "cell_type": "code",
      "source": [
        "# State abbreviations and full names\n",
        "states = {\n",
        "        \"AL\": \"Alabama\", \"AK\": \"Alaska\", \"AZ\": \"Arizona\", \"AR\": \"Arkansas\",\n",
        "        \"CA\": \"California\", \"CO\": \"Colorado\", \"CT\": \"Connecticut\", \"DE\": \"Delaware\",\n",
        "        \"FL\": \"Florida\", \"GA\": \"Georgia\", \"HI\": \"Hawaii\", \"ID\": \"Idaho\",\n",
        "        \"IL\": \"Illinois\", \"IN\": \"Indiana\", \"IA\": \"Iowa\", \"KS\": \"Kansas\",\n",
        "        \"KY\": \"Kentucky\", \"LA\": \"Louisiana\", \"ME\": \"Maine\", \"MD\": \"Maryland\",\n",
        "        \"MA\": \"Massachusetts\", \"MI\": \"Michigan\", \"MN\": \"Minnesota\", \"MS\": \"Mississippi\",\n",
        "        \"MO\": \"Missouri\", \"MT\": \"Montana\", \"NE\": \"Nebraska\", \"NV\": \"Nevada\",\n",
        "        \"NH\": \"New Hampshire\", \"NJ\": \"New Jersey\", \"NM\": \"New Mexico\", \"NY\": \"New York\",\n",
        "        \"NC\": \"North Carolina\", \"ND\": \"North Dakota\", \"OH\": \"Ohio\", \"OK\": \"Oklahoma\",\n",
        "        \"OR\": \"Oregon\", \"PA\": \"Pennsylvania\", \"RI\": \"Rhode Island\", \"SC\": \"South Carolina\",\n",
        "        \"SD\": \"South Dakota\", \"TN\": \"Tennessee\", \"TX\": \"Texas\", \"UT\": \"Utah\",\n",
        "        \"VT\": \"Vermont\", \"VA\": \"Virginia\", \"WA\": \"Washington\", \"WV\": \"West Virginia\",\n",
        "        \"WI\": \"Wisconsin\", \"WY\": \"Wyoming\", \"DC\": \"District of Columbia\"\n",
        "}"
      ],
      "metadata": {
        "id": "mCa7Qo-saiFz"
      },
      "execution_count": null,
      "outputs": []
    },
    {
      "cell_type": "code",
      "source": [
        "# US State Frequency Analysis with Visualization\n",
        "\n",
        "def us_state_analysis(df, text_column=\"preprocessed_content\"):\n",
        "    \"\"\"\n",
        "    Analyze frequency of US state mentions and visualize on a map.\n",
        "    \"\"\"\n",
        "    print(\"Analyzing US state mentions...\")\n",
        "\n",
        "\n",
        "    # Initialize state counts\n",
        "    state_counts = {state: 0 for state in states.values()}\n",
        "\n",
        "    # Count state mentions in posts\n",
        "    for _, row in df.iterrows():\n",
        "        text = str(row[text_column])\n",
        "\n",
        "        # Check for full state names\n",
        "        for abbr, state in states.items():\n",
        "            # Check for full state name\n",
        "            if re.search(r'\\b' + re.escape(state) + r'\\b', text, re.IGNORECASE):\n",
        "                state_counts[state] += 1\n",
        "\n",
        "            # Check for abbreviation with word boundaries\n",
        "            if re.search(r'\\b' + re.escape(abbr) + r'\\b', text):\n",
        "                state_counts[state] += 1\n",
        "\n",
        "    return state_counts"
      ],
      "metadata": {
        "id": "g-VM_M-BtsgV"
      },
      "execution_count": null,
      "outputs": []
    },
    {
      "cell_type": "code",
      "source": [
        "state_counts = us_state_analysis(df)\n",
        "print(\"\\n Top 5 locations with the highest crisis discussions:\")\n",
        "sorted_states = sorted(state_counts.items(),\n",
        "                      key=lambda x: x[1], reverse=True)\n",
        "for state, count in sorted_states[:5]:\n",
        "    if count > 0:\n",
        "        print(f\"  {state}: {count} mentions\")\n"
      ],
      "metadata": {
        "colab": {
          "base_uri": "https://localhost:8080/"
        },
        "id": "3E4bRUyztwu9",
        "outputId": "b87e3294-7fd3-461e-dcde-bf85fbf85c7c"
      },
      "execution_count": null,
      "outputs": [
        {
          "output_type": "stream",
          "name": "stdout",
          "text": [
            "Analyzing US state mentions...\n",
            "\n",
            " Top 5 locations with the highest crisis discussions:\n",
            "  Oklahoma: 7 mentions\n",
            "  Connecticut: 3 mentions\n",
            "  Florida: 3 mentions\n",
            "  California: 2 mentions\n",
            "  Louisiana: 2 mentions\n"
          ]
        }
      ]
    },
    {
      "cell_type": "markdown",
      "source": [
        "# **Generating a heatmap**"
      ],
      "metadata": {
        "id": "FdxfBPEjaRTl"
      }
    },
    {
      "cell_type": "code",
      "source": [
        "import plotly.express as px\n",
        "\n",
        "df = pd.DataFrame(sorted_states, columns=['State', 'Value'])\n",
        "\n",
        "\n",
        "# Add state abbreviations to the DataFrame\n",
        "state_to_abbr = {\n",
        "    'Alabama': 'AL', 'Alaska': 'AK', 'Arizona': 'AZ', 'Arkansas': 'AR',\n",
        "    'California': 'CA', 'Colorado': 'CO', 'Connecticut': 'CT', 'Delaware': 'DE',\n",
        "    'Florida': 'FL', 'Georgia': 'GA', 'Hawaii': 'HI', 'Idaho': 'ID',\n",
        "    'Illinois': 'IL', 'Indiana': 'IN', 'Iowa': 'IA', 'Kansas': 'KS',\n",
        "    'Kentucky': 'KY', 'Louisiana': 'LA', 'Maine': 'ME', 'Maryland': 'MD',\n",
        "    'Massachusetts': 'MA', 'Michigan': 'MI', 'Minnesota': 'MN', 'Mississippi': 'MS',\n",
        "    'Missouri': 'MO', 'Montana': 'MT', 'Nebraska': 'NE', 'Nevada': 'NV',\n",
        "    'New Hampshire': 'NH', 'New Jersey': 'NJ', 'New Mexico': 'NM', 'New York': 'NY',\n",
        "    'North Carolina': 'NC', 'North Dakota': 'ND', 'Ohio': 'OH', 'Oklahoma': 'OK',\n",
        "    'Oregon': 'OR', 'Pennsylvania': 'PA', 'Rhode Island': 'RI', 'South Carolina': 'SC',\n",
        "    'South Dakota': 'SD', 'Tennessee': 'TN', 'Texas': 'TX', 'Utah': 'UT',\n",
        "    'Vermont': 'VT', 'Virginia': 'VA', 'Washington': 'WA', 'West Virginia': 'WV',\n",
        "    'Wisconsin': 'WI', 'Wyoming': 'WY', 'District of Columbia': 'DC'\n",
        "}\n",
        "\n",
        "df['Code'] = df['State'].map(state_to_abbr)\n",
        "\n",
        "# Create map with abbreviations\n",
        "fig = px.choropleth(\n",
        "    df,\n",
        "    locations='Code',\n",
        "    locationmode='USA-states',\n",
        "    color='Value',\n",
        "    scope=\"usa\",\n",
        "    color_continuous_scale=\"Viridis\",\n",
        "    title='US State Values Heat Map',\n",
        "    hover_name='State',\n",
        "    hover_data={'Value': True, 'State': False, 'Code': False}\n",
        ")\n",
        "\n",
        "fig.show()"
      ],
      "metadata": {
        "colab": {
          "base_uri": "https://localhost:8080/",
          "height": 542
        },
        "id": "doTz2FaSZuzO",
        "outputId": "28bc695b-3c56-4a9a-8359-c1ba77babd0c"
      },
      "execution_count": null,
      "outputs": [
        {
          "output_type": "display_data",
          "data": {
            "text/html": [
              "<html>\n",
              "<head><meta charset=\"utf-8\" /></head>\n",
              "<body>\n",
              "    <div>            <script src=\"https://cdnjs.cloudflare.com/ajax/libs/mathjax/2.7.5/MathJax.js?config=TeX-AMS-MML_SVG\"></script><script type=\"text/javascript\">if (window.MathJax && window.MathJax.Hub && window.MathJax.Hub.Config) {window.MathJax.Hub.Config({SVG: {font: \"STIX-Web\"}});}</script>                <script type=\"text/javascript\">window.PlotlyConfig = {MathJaxConfig: 'local'};</script>\n",
              "        <script charset=\"utf-8\" src=\"https://cdn.plot.ly/plotly-2.35.2.min.js\"></script>                <div id=\"49d705b3-d0b0-444d-a56f-3b2491f94518\" class=\"plotly-graph-div\" style=\"height:525px; width:100%;\"></div>            <script type=\"text/javascript\">                                    window.PLOTLYENV=window.PLOTLYENV || {};                                    if (document.getElementById(\"49d705b3-d0b0-444d-a56f-3b2491f94518\")) {                    Plotly.newPlot(                        \"49d705b3-d0b0-444d-a56f-3b2491f94518\",                        [{\"coloraxis\":\"coloraxis\",\"customdata\":[[7,\"Oklahoma\",\"OK\"],[3,\"Connecticut\",\"CT\"],[3,\"Florida\",\"FL\"],[2,\"California\",\"CA\"],[2,\"Louisiana\",\"LA\"],[2,\"New York\",\"NY\"],[2,\"Texas\",\"TX\"],[1,\"Colorado\",\"CO\"],[1,\"Georgia\",\"GA\"],[1,\"Ohio\",\"OH\"],[0,\"Alabama\",\"AL\"],[0,\"Alaska\",\"AK\"],[0,\"Arizona\",\"AZ\"],[0,\"Arkansas\",\"AR\"],[0,\"Delaware\",\"DE\"],[0,\"Hawaii\",\"HI\"],[0,\"Idaho\",\"ID\"],[0,\"Illinois\",\"IL\"],[0,\"Indiana\",\"IN\"],[0,\"Iowa\",\"IA\"],[0,\"Kansas\",\"KS\"],[0,\"Kentucky\",\"KY\"],[0,\"Maine\",\"ME\"],[0,\"Maryland\",\"MD\"],[0,\"Massachusetts\",\"MA\"],[0,\"Michigan\",\"MI\"],[0,\"Minnesota\",\"MN\"],[0,\"Mississippi\",\"MS\"],[0,\"Missouri\",\"MO\"],[0,\"Montana\",\"MT\"],[0,\"Nebraska\",\"NE\"],[0,\"Nevada\",\"NV\"],[0,\"New Hampshire\",\"NH\"],[0,\"New Jersey\",\"NJ\"],[0,\"New Mexico\",\"NM\"],[0,\"North Carolina\",\"NC\"],[0,\"North Dakota\",\"ND\"],[0,\"Oregon\",\"OR\"],[0,\"Pennsylvania\",\"PA\"],[0,\"Rhode Island\",\"RI\"],[0,\"South Carolina\",\"SC\"],[0,\"South Dakota\",\"SD\"],[0,\"Tennessee\",\"TN\"],[0,\"Utah\",\"UT\"],[0,\"Vermont\",\"VT\"],[0,\"Virginia\",\"VA\"],[0,\"Washington\",\"WA\"],[0,\"West Virginia\",\"WV\"],[0,\"Wisconsin\",\"WI\"],[0,\"Wyoming\",\"WY\"],[0,\"District of Columbia\",\"DC\"]],\"geo\":\"geo\",\"hovertemplate\":\"\\u003cb\\u003e%{hovertext}\\u003c\\u002fb\\u003e\\u003cbr\\u003e\\u003cbr\\u003eValue=%{z}\\u003cextra\\u003e\\u003c\\u002fextra\\u003e\",\"hovertext\":[\"Oklahoma\",\"Connecticut\",\"Florida\",\"California\",\"Louisiana\",\"New York\",\"Texas\",\"Colorado\",\"Georgia\",\"Ohio\",\"Alabama\",\"Alaska\",\"Arizona\",\"Arkansas\",\"Delaware\",\"Hawaii\",\"Idaho\",\"Illinois\",\"Indiana\",\"Iowa\",\"Kansas\",\"Kentucky\",\"Maine\",\"Maryland\",\"Massachusetts\",\"Michigan\",\"Minnesota\",\"Mississippi\",\"Missouri\",\"Montana\",\"Nebraska\",\"Nevada\",\"New Hampshire\",\"New Jersey\",\"New Mexico\",\"North Carolina\",\"North Dakota\",\"Oregon\",\"Pennsylvania\",\"Rhode Island\",\"South Carolina\",\"South Dakota\",\"Tennessee\",\"Utah\",\"Vermont\",\"Virginia\",\"Washington\",\"West Virginia\",\"Wisconsin\",\"Wyoming\",\"District of Columbia\"],\"locationmode\":\"USA-states\",\"locations\":[\"OK\",\"CT\",\"FL\",\"CA\",\"LA\",\"NY\",\"TX\",\"CO\",\"GA\",\"OH\",\"AL\",\"AK\",\"AZ\",\"AR\",\"DE\",\"HI\",\"ID\",\"IL\",\"IN\",\"IA\",\"KS\",\"KY\",\"ME\",\"MD\",\"MA\",\"MI\",\"MN\",\"MS\",\"MO\",\"MT\",\"NE\",\"NV\",\"NH\",\"NJ\",\"NM\",\"NC\",\"ND\",\"OR\",\"PA\",\"RI\",\"SC\",\"SD\",\"TN\",\"UT\",\"VT\",\"VA\",\"WA\",\"WV\",\"WI\",\"WY\",\"DC\"],\"name\":\"\",\"z\":[7,3,3,2,2,2,2,1,1,1,0,0,0,0,0,0,0,0,0,0,0,0,0,0,0,0,0,0,0,0,0,0,0,0,0,0,0,0,0,0,0,0,0,0,0,0,0,0,0,0,0],\"type\":\"choropleth\"}],                        {\"template\":{\"data\":{\"histogram2dcontour\":[{\"type\":\"histogram2dcontour\",\"colorbar\":{\"outlinewidth\":0,\"ticks\":\"\"},\"colorscale\":[[0.0,\"#0d0887\"],[0.1111111111111111,\"#46039f\"],[0.2222222222222222,\"#7201a8\"],[0.3333333333333333,\"#9c179e\"],[0.4444444444444444,\"#bd3786\"],[0.5555555555555556,\"#d8576b\"],[0.6666666666666666,\"#ed7953\"],[0.7777777777777778,\"#fb9f3a\"],[0.8888888888888888,\"#fdca26\"],[1.0,\"#f0f921\"]]}],\"choropleth\":[{\"type\":\"choropleth\",\"colorbar\":{\"outlinewidth\":0,\"ticks\":\"\"}}],\"histogram2d\":[{\"type\":\"histogram2d\",\"colorbar\":{\"outlinewidth\":0,\"ticks\":\"\"},\"colorscale\":[[0.0,\"#0d0887\"],[0.1111111111111111,\"#46039f\"],[0.2222222222222222,\"#7201a8\"],[0.3333333333333333,\"#9c179e\"],[0.4444444444444444,\"#bd3786\"],[0.5555555555555556,\"#d8576b\"],[0.6666666666666666,\"#ed7953\"],[0.7777777777777778,\"#fb9f3a\"],[0.8888888888888888,\"#fdca26\"],[1.0,\"#f0f921\"]]}],\"heatmap\":[{\"type\":\"heatmap\",\"colorbar\":{\"outlinewidth\":0,\"ticks\":\"\"},\"colorscale\":[[0.0,\"#0d0887\"],[0.1111111111111111,\"#46039f\"],[0.2222222222222222,\"#7201a8\"],[0.3333333333333333,\"#9c179e\"],[0.4444444444444444,\"#bd3786\"],[0.5555555555555556,\"#d8576b\"],[0.6666666666666666,\"#ed7953\"],[0.7777777777777778,\"#fb9f3a\"],[0.8888888888888888,\"#fdca26\"],[1.0,\"#f0f921\"]]}],\"heatmapgl\":[{\"type\":\"heatmapgl\",\"colorbar\":{\"outlinewidth\":0,\"ticks\":\"\"},\"colorscale\":[[0.0,\"#0d0887\"],[0.1111111111111111,\"#46039f\"],[0.2222222222222222,\"#7201a8\"],[0.3333333333333333,\"#9c179e\"],[0.4444444444444444,\"#bd3786\"],[0.5555555555555556,\"#d8576b\"],[0.6666666666666666,\"#ed7953\"],[0.7777777777777778,\"#fb9f3a\"],[0.8888888888888888,\"#fdca26\"],[1.0,\"#f0f921\"]]}],\"contourcarpet\":[{\"type\":\"contourcarpet\",\"colorbar\":{\"outlinewidth\":0,\"ticks\":\"\"}}],\"contour\":[{\"type\":\"contour\",\"colorbar\":{\"outlinewidth\":0,\"ticks\":\"\"},\"colorscale\":[[0.0,\"#0d0887\"],[0.1111111111111111,\"#46039f\"],[0.2222222222222222,\"#7201a8\"],[0.3333333333333333,\"#9c179e\"],[0.4444444444444444,\"#bd3786\"],[0.5555555555555556,\"#d8576b\"],[0.6666666666666666,\"#ed7953\"],[0.7777777777777778,\"#fb9f3a\"],[0.8888888888888888,\"#fdca26\"],[1.0,\"#f0f921\"]]}],\"surface\":[{\"type\":\"surface\",\"colorbar\":{\"outlinewidth\":0,\"ticks\":\"\"},\"colorscale\":[[0.0,\"#0d0887\"],[0.1111111111111111,\"#46039f\"],[0.2222222222222222,\"#7201a8\"],[0.3333333333333333,\"#9c179e\"],[0.4444444444444444,\"#bd3786\"],[0.5555555555555556,\"#d8576b\"],[0.6666666666666666,\"#ed7953\"],[0.7777777777777778,\"#fb9f3a\"],[0.8888888888888888,\"#fdca26\"],[1.0,\"#f0f921\"]]}],\"mesh3d\":[{\"type\":\"mesh3d\",\"colorbar\":{\"outlinewidth\":0,\"ticks\":\"\"}}],\"scatter\":[{\"fillpattern\":{\"fillmode\":\"overlay\",\"size\":10,\"solidity\":0.2},\"type\":\"scatter\"}],\"parcoords\":[{\"type\":\"parcoords\",\"line\":{\"colorbar\":{\"outlinewidth\":0,\"ticks\":\"\"}}}],\"scatterpolargl\":[{\"type\":\"scatterpolargl\",\"marker\":{\"colorbar\":{\"outlinewidth\":0,\"ticks\":\"\"}}}],\"bar\":[{\"error_x\":{\"color\":\"#2a3f5f\"},\"error_y\":{\"color\":\"#2a3f5f\"},\"marker\":{\"line\":{\"color\":\"#E5ECF6\",\"width\":0.5},\"pattern\":{\"fillmode\":\"overlay\",\"size\":10,\"solidity\":0.2}},\"type\":\"bar\"}],\"scattergeo\":[{\"type\":\"scattergeo\",\"marker\":{\"colorbar\":{\"outlinewidth\":0,\"ticks\":\"\"}}}],\"scatterpolar\":[{\"type\":\"scatterpolar\",\"marker\":{\"colorbar\":{\"outlinewidth\":0,\"ticks\":\"\"}}}],\"histogram\":[{\"marker\":{\"pattern\":{\"fillmode\":\"overlay\",\"size\":10,\"solidity\":0.2}},\"type\":\"histogram\"}],\"scattergl\":[{\"type\":\"scattergl\",\"marker\":{\"colorbar\":{\"outlinewidth\":0,\"ticks\":\"\"}}}],\"scatter3d\":[{\"type\":\"scatter3d\",\"line\":{\"colorbar\":{\"outlinewidth\":0,\"ticks\":\"\"}},\"marker\":{\"colorbar\":{\"outlinewidth\":0,\"ticks\":\"\"}}}],\"scattermapbox\":[{\"type\":\"scattermapbox\",\"marker\":{\"colorbar\":{\"outlinewidth\":0,\"ticks\":\"\"}}}],\"scatterternary\":[{\"type\":\"scatterternary\",\"marker\":{\"colorbar\":{\"outlinewidth\":0,\"ticks\":\"\"}}}],\"scattercarpet\":[{\"type\":\"scattercarpet\",\"marker\":{\"colorbar\":{\"outlinewidth\":0,\"ticks\":\"\"}}}],\"carpet\":[{\"aaxis\":{\"endlinecolor\":\"#2a3f5f\",\"gridcolor\":\"white\",\"linecolor\":\"white\",\"minorgridcolor\":\"white\",\"startlinecolor\":\"#2a3f5f\"},\"baxis\":{\"endlinecolor\":\"#2a3f5f\",\"gridcolor\":\"white\",\"linecolor\":\"white\",\"minorgridcolor\":\"white\",\"startlinecolor\":\"#2a3f5f\"},\"type\":\"carpet\"}],\"table\":[{\"cells\":{\"fill\":{\"color\":\"#EBF0F8\"},\"line\":{\"color\":\"white\"}},\"header\":{\"fill\":{\"color\":\"#C8D4E3\"},\"line\":{\"color\":\"white\"}},\"type\":\"table\"}],\"barpolar\":[{\"marker\":{\"line\":{\"color\":\"#E5ECF6\",\"width\":0.5},\"pattern\":{\"fillmode\":\"overlay\",\"size\":10,\"solidity\":0.2}},\"type\":\"barpolar\"}],\"pie\":[{\"automargin\":true,\"type\":\"pie\"}]},\"layout\":{\"autotypenumbers\":\"strict\",\"colorway\":[\"#636efa\",\"#EF553B\",\"#00cc96\",\"#ab63fa\",\"#FFA15A\",\"#19d3f3\",\"#FF6692\",\"#B6E880\",\"#FF97FF\",\"#FECB52\"],\"font\":{\"color\":\"#2a3f5f\"},\"hovermode\":\"closest\",\"hoverlabel\":{\"align\":\"left\"},\"paper_bgcolor\":\"white\",\"plot_bgcolor\":\"#E5ECF6\",\"polar\":{\"bgcolor\":\"#E5ECF6\",\"angularaxis\":{\"gridcolor\":\"white\",\"linecolor\":\"white\",\"ticks\":\"\"},\"radialaxis\":{\"gridcolor\":\"white\",\"linecolor\":\"white\",\"ticks\":\"\"}},\"ternary\":{\"bgcolor\":\"#E5ECF6\",\"aaxis\":{\"gridcolor\":\"white\",\"linecolor\":\"white\",\"ticks\":\"\"},\"baxis\":{\"gridcolor\":\"white\",\"linecolor\":\"white\",\"ticks\":\"\"},\"caxis\":{\"gridcolor\":\"white\",\"linecolor\":\"white\",\"ticks\":\"\"}},\"coloraxis\":{\"colorbar\":{\"outlinewidth\":0,\"ticks\":\"\"}},\"colorscale\":{\"sequential\":[[0.0,\"#0d0887\"],[0.1111111111111111,\"#46039f\"],[0.2222222222222222,\"#7201a8\"],[0.3333333333333333,\"#9c179e\"],[0.4444444444444444,\"#bd3786\"],[0.5555555555555556,\"#d8576b\"],[0.6666666666666666,\"#ed7953\"],[0.7777777777777778,\"#fb9f3a\"],[0.8888888888888888,\"#fdca26\"],[1.0,\"#f0f921\"]],\"sequentialminus\":[[0.0,\"#0d0887\"],[0.1111111111111111,\"#46039f\"],[0.2222222222222222,\"#7201a8\"],[0.3333333333333333,\"#9c179e\"],[0.4444444444444444,\"#bd3786\"],[0.5555555555555556,\"#d8576b\"],[0.6666666666666666,\"#ed7953\"],[0.7777777777777778,\"#fb9f3a\"],[0.8888888888888888,\"#fdca26\"],[1.0,\"#f0f921\"]],\"diverging\":[[0,\"#8e0152\"],[0.1,\"#c51b7d\"],[0.2,\"#de77ae\"],[0.3,\"#f1b6da\"],[0.4,\"#fde0ef\"],[0.5,\"#f7f7f7\"],[0.6,\"#e6f5d0\"],[0.7,\"#b8e186\"],[0.8,\"#7fbc41\"],[0.9,\"#4d9221\"],[1,\"#276419\"]]},\"xaxis\":{\"gridcolor\":\"white\",\"linecolor\":\"white\",\"ticks\":\"\",\"title\":{\"standoff\":15},\"zerolinecolor\":\"white\",\"automargin\":true,\"zerolinewidth\":2},\"yaxis\":{\"gridcolor\":\"white\",\"linecolor\":\"white\",\"ticks\":\"\",\"title\":{\"standoff\":15},\"zerolinecolor\":\"white\",\"automargin\":true,\"zerolinewidth\":2},\"scene\":{\"xaxis\":{\"backgroundcolor\":\"#E5ECF6\",\"gridcolor\":\"white\",\"linecolor\":\"white\",\"showbackground\":true,\"ticks\":\"\",\"zerolinecolor\":\"white\",\"gridwidth\":2},\"yaxis\":{\"backgroundcolor\":\"#E5ECF6\",\"gridcolor\":\"white\",\"linecolor\":\"white\",\"showbackground\":true,\"ticks\":\"\",\"zerolinecolor\":\"white\",\"gridwidth\":2},\"zaxis\":{\"backgroundcolor\":\"#E5ECF6\",\"gridcolor\":\"white\",\"linecolor\":\"white\",\"showbackground\":true,\"ticks\":\"\",\"zerolinecolor\":\"white\",\"gridwidth\":2}},\"shapedefaults\":{\"line\":{\"color\":\"#2a3f5f\"}},\"annotationdefaults\":{\"arrowcolor\":\"#2a3f5f\",\"arrowhead\":0,\"arrowwidth\":1},\"geo\":{\"bgcolor\":\"white\",\"landcolor\":\"#E5ECF6\",\"subunitcolor\":\"white\",\"showland\":true,\"showlakes\":true,\"lakecolor\":\"white\"},\"title\":{\"x\":0.05},\"mapbox\":{\"style\":\"light\"}}},\"geo\":{\"domain\":{\"x\":[0.0,1.0],\"y\":[0.0,1.0]},\"center\":{},\"scope\":\"usa\"},\"coloraxis\":{\"colorbar\":{\"title\":{\"text\":\"Value\"}},\"colorscale\":[[0.0,\"#440154\"],[0.1111111111111111,\"#482878\"],[0.2222222222222222,\"#3e4989\"],[0.3333333333333333,\"#31688e\"],[0.4444444444444444,\"#26828e\"],[0.5555555555555556,\"#1f9e89\"],[0.6666666666666666,\"#35b779\"],[0.7777777777777778,\"#6ece58\"],[0.8888888888888888,\"#b5de2b\"],[1.0,\"#fde725\"]]},\"legend\":{\"tracegroupgap\":0},\"title\":{\"text\":\"US State Values Heat Map\"}},                        {\"responsive\": true}                    ).then(function(){\n",
              "                            \n",
              "var gd = document.getElementById('49d705b3-d0b0-444d-a56f-3b2491f94518');\n",
              "var x = new MutationObserver(function (mutations, observer) {{\n",
              "        var display = window.getComputedStyle(gd).display;\n",
              "        if (!display || display === 'none') {{\n",
              "            console.log([gd, 'removed!']);\n",
              "            Plotly.purge(gd);\n",
              "            observer.disconnect();\n",
              "        }}\n",
              "}});\n",
              "\n",
              "// Listen for the removal of the full notebook cells\n",
              "var notebookContainer = gd.closest('#notebook-container');\n",
              "if (notebookContainer) {{\n",
              "    x.observe(notebookContainer, {childList: true});\n",
              "}}\n",
              "\n",
              "// Listen for the clearing of the current output cell\n",
              "var outputEl = gd.closest('.output');\n",
              "if (outputEl) {{\n",
              "    x.observe(outputEl, {childList: true});\n",
              "}}\n",
              "\n",
              "                        })                };                            </script>        </div>\n",
              "</body>\n",
              "</html>"
            ]
          },
          "metadata": {}
        }
      ]
    },
    {
      "cell_type": "code",
      "source": [],
      "metadata": {
        "id": "t-5UukVfZh2o"
      },
      "execution_count": null,
      "outputs": []
    }
  ]
}
